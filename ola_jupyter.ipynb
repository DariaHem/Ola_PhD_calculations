{
 "cells": [
  {
   "cell_type": "code",
   "execution_count": null,
   "metadata": {},
   "outputs": [],
   "source": [
    "import pandas as pd\n",
    "from pandas import ExcelWriter\n",
    "from pandas import ExcelFile\n",
    "# !pip install nbconvert\n",
    "from sqlalchemy import create_engine\n",
    "import pandas as pd\n",
    "import sys\n",
    "import getpass\n",
    "import matplotlib.pyplot as plt\n",
    "from sklearn import metrics\n",
    "from collections import Counter\n",
    "import numpy as np\n",
    "from scipy import stats\n",
    "import seaborn as sns\n",
    "\n",
    "from sklearn.feature_selection import mutual_info_classif, GenericUnivariateSelect, SelectFromModel, RFE, RFECV\n",
    "from sklearn.tree import DecisionTreeClassifier\n",
    "from functools import partial\n",
    "from hyperopt import hp\n",
    "from hyperopt import hp, fmin, tpe, STATUS_OK, Trials\n",
    "\n",
    "\n",
    "df = pd.read_excel('07.08_Objętości_DH (1).xlsx', sheetname='Arkusz1')\n",
    "\n",
    "print(\"Column headings:\")\n",
    "print(df.columns)\n",
    "\n",
    "df.shape\n"
   ]
  }
 ],
 "metadata": {
  "kernelspec": {
   "display_name": "Python 3",
   "language": "python",
   "name": "python3"
  },
  "language_info": {
   "codemirror_mode": {
    "name": "ipython",
    "version": 3
   },
   "file_extension": ".py",
   "mimetype": "text/x-python",
   "name": "python",
   "nbconvert_exporter": "python",
   "pygments_lexer": "ipython3",
   "version": "3.7.1"
  }
 },
 "nbformat": 4,
 "nbformat_minor": 2
}
